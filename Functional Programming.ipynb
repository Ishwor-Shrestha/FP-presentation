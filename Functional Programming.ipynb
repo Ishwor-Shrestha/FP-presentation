{
 "cells": [
  {
   "cell_type": "code",
   "execution_count": null,
   "metadata": {},
   "outputs": [],
   "source": [
    "## SIDE EFFECTS\n",
    "# A program/function is said to have a side effect if it modifies the\n",
    "# state of something outside its scope.\n",
    "# EXAMPLES: display character in screen, taking user input,\n",
    "#  making a network call, reading/writing to file/database, etc.\n",
    "\n",
    "# REMEMBER!! Side effects should be avoided as much as it is possible."
   ]
  },
  {
   "cell_type": "code",
   "execution_count": 30,
   "metadata": {},
   "outputs": [],
   "source": [
    "# IMPURE FUNCTION\n",
    "# Has side effects.\n",
    "# Return value does not only depends on arguments: random.random(), datetime.now(), etc.\n",
    "# Can modify the arguments\n",
    "\n",
    "# Example\n",
    "curr_state = {'lives': 1, 'score': 5}\n",
    "def update_score():\n",
    "    global curr_state\n",
    "    curr_state['score'] += 1 # SIDE EFFECT !!\n",
    "    return curr_state"
   ]
  },
  {
   "cell_type": "code",
   "execution_count": 31,
   "metadata": {},
   "outputs": [],
   "source": [
    "# PURE FUNCTION\n",
    "# Does not have any side effects.\n",
    "# The return value just depends on its arguments.\n",
    "# Does not modify the arguments.\n",
    "# Depends only on the arguments.\n",
    "# Just like mathematical functions like sine, cosine, log, etc.\n",
    "\n",
    "# Example: A better version of the above impure function\n",
    "def update_score(curr_state):\n",
    "    new_state = dict(curr_state)\n",
    "    new_state['score'] += 1\n",
    "    return new_state"
   ]
  },
  {
   "cell_type": "code",
   "execution_count": 32,
   "metadata": {},
   "outputs": [
    {
     "name": "stdout",
     "output_type": "stream",
     "text": [
      "6\n",
      "9\n"
     ]
    }
   ],
   "source": [
    "# ANONYMOUS/LAMBDA FUNCTION\n",
    "\n",
    "# creation of functions on the fly,\n",
    "# just like we use integer/string/float.. values\n",
    "\n",
    "# a = 3 + 5 # here, we have not defined 3 and 5\n",
    "\n",
    "# a lambda function\n",
    "\n",
    "double = lambda x: x*2\n",
    "add = lambda x, y: x+y\n",
    "\n",
    "print(double(3))\n",
    "print(add(4,5))"
   ]
  },
  {
   "cell_type": "code",
   "execution_count": 1,
   "metadata": {},
   "outputs": [
    {
     "name": "stdout",
     "output_type": "stream",
     "text": [
      "-1\n"
     ]
    }
   ],
   "source": [
    "# HIGHER ORDER FUNCTION\n",
    "# A function that takes another function as agrument \n",
    "# and/or returns another function\n",
    "\n",
    "def operate(function, *args): # this takes 'function' as a parameter\n",
    "    return function(*args)\n",
    "\n",
    "def add(x, y): return x+y\n",
    "def subtract(x, y): return x-y\n",
    "\n",
    "print(operate(subtract, 3,4))\n"
   ]
  },
  {
   "cell_type": "code",
   "execution_count": 34,
   "metadata": {},
   "outputs": [
    {
     "name": "stdout",
     "output_type": "stream",
     "text": [
      "5\n"
     ]
    }
   ],
   "source": [
    "# ANOTHER HIGHER ORDER FUNCTION\n",
    "def twice_apply(f): # take in a function, returns a function that applies passed function twice\n",
    "    return lambda x: f(f(x))\n",
    "\n",
    "def subtract2(x): return subtract(x, 2)\n",
    "\n",
    "print( twice_apply(subtract2) (9) )"
   ]
  },
  {
   "cell_type": "code",
   "execution_count": null,
   "metadata": {},
   "outputs": [],
   "source": [
    "## more practical\n",
    "def send_request_to_google(gurl):\n",
    "    response = send_request(gurl)\n",
    "    ## response parse\n",
    "    return parsed_response\n",
    "    \n",
    "def send_request_to_facebook(fburl):\n",
    "    response = send_request(fburl)\n",
    "    # parse response\n",
    "    return parsed_response\n",
    "\n",
    "def common_send_req(url, parse_function):\n",
    "    resp = send_request(url)\n",
    "    parsed= parse_function(resp)\n",
    "    return parsed\n",
    "\n",
    "def facebook_parser(resp):\n",
    "    pass\n",
    "def google_parser(resp):\n",
    "    pass\n",
    "\n",
    "print(common_send_req(url, facebook_parser))"
   ]
  },
  {
   "cell_type": "code",
   "execution_count": 35,
   "metadata": {},
   "outputs": [
    {
     "name": "stdout",
     "output_type": "stream",
     "text": [
      "[1, 4, 9, 16, 25, 36, 49, 64, 81]\n"
     ]
    }
   ],
   "source": [
    "## MAP/FILTER/REDUCE\n",
    "# Excellent tools to manipulate lists and iterators\n",
    "\n",
    "# MAP is used when we need to apply a function to elements in a list and collect results\n",
    "# Takes a function as a parameter and a iterable/list\n",
    "our_list = [1,2,3,4,5,6,7,8,9]\n",
    "squares = list(\n",
    "    map(\n",
    "        lambda x: x**2,\n",
    "        our_list\n",
    "       )\n",
    ")\n",
    "print(squares)\n",
    "# LIST COMPREHENSION equivalent"
   ]
  },
  {
   "cell_type": "code",
   "execution_count": 36,
   "metadata": {},
   "outputs": [
    {
     "name": "stdout",
     "output_type": "stream",
     "text": [
      "[2, 4, 6, 8]\n"
     ]
    }
   ],
   "source": [
    "# FILTER\n",
    "# Used to filter out elements from a list if certain condition is fulfilled\n",
    "# condition is a function taking an element and returning True or False\n",
    "\n",
    "# Let's filter even numbers out of a list\n",
    "divisible_by_2 = lambda x: x%2 == 0 # our condition\n",
    "\n",
    "our_list = [1,2,3,4,5,6,7,8,9]\n",
    "evens = list(\n",
    "    filter(divisible_by_2, our_list)\n",
    ")\n",
    "print(evens)\n",
    "\n",
    "# LIST COMPREHENSION equivalent"
   ]
  },
  {
   "cell_type": "code",
   "execution_count": 2,
   "metadata": {},
   "outputs": [
    {
     "name": "stdout",
     "output_type": "stream",
     "text": [
      "list sum 385\n",
      "Trivial max: 100\n",
      "Reduced max: 100\n"
     ]
    }
   ],
   "source": [
    "# REDUCE\n",
    "# Ah!! another excellent tool\n",
    "# Used when we need to apply a computation to the whole list and get a result\n",
    "\n",
    "# example: Sum of elements in a list\n",
    "from functools import reduce\n",
    "\n",
    "our_list = [1,2,3,4,5,6,7,8,9,20, 100, 34, 87, 99]\n",
    "list_sum = reduce(lambda x, y: x+y, our_list)\n",
    "print('list sum', list_sum)\n",
    "\n",
    "# another example: find out maximum element\n",
    "# trivially we do\n",
    "mx = our_list[0]\n",
    "for x in our_list[1:]:\n",
    "    if x>mx: mx=x\n",
    "print(\"Trivial max:\", mx)\n",
    "\n",
    "## Reduce to the rescue!!\n",
    "mx_func = lambda x, y: x if x>y else y\n",
    "\n",
    "mx = reduce(mx_func, our_list)\n",
    "print('Reduced max:', mx)"
   ]
  },
  {
   "cell_type": "code",
   "execution_count": 11,
   "metadata": {},
   "outputs": [
    {
     "name": "stdout",
     "output_type": "stream",
     "text": [
      "81\n"
     ]
    }
   ],
   "source": [
    "## COMPOSITION\n",
    "# Passing the return value of a function as an argument to the other\n",
    "# Just like in mathematics we used to do FoG(x) = F(G(x))\n",
    "from functools import reduce\n",
    "\n",
    "def compose2(f1, f2):\n",
    "    \"\"\"Compose two functions\"\"\"\n",
    "    return lambda *args: f1(f2(*args))\n",
    "\n",
    "def compose(*functions):\n",
    "    \"\"\"Compose all functions passed as parameters\"\"\"\n",
    "    return reduce(compose2, functions)\n",
    "\n",
    "def add1(x): return 1+x\n",
    "def sq(x): return x*x\n",
    "def cube(x): return x*x*x\n",
    "\n",
    "c = compose(sq, add1, cube) # first cube, then add 1 and then square\n",
    "\n",
    "# NOW, c is another function which is returned by compose2.\n",
    "print(c(2)) # => sq(add1(cube(2))) => sq(add1(9)) => sq(9) => 81, TADA!!"
   ]
  },
  {
   "cell_type": "code",
   "execution_count": 15,
   "metadata": {},
   "outputs": [
    {
     "name": "stdout",
     "output_type": "stream",
     "text": [
      "add 3 and 4: 7\n",
      "add 10 to 33: 43\n",
      "add 30 to 1: 31\n"
     ]
    }
   ],
   "source": [
    "## PARTIAL APPLICATION\n",
    "# Applying a function to only a few of its arguments\n",
    "\n",
    "def add(x, y): return x+y\n",
    "\n",
    "def add10(x): return add(10, x)\n",
    "def add30(x): return add(30, x)\n",
    "\n",
    "print('add 3 and 4:', add(3,4))\n",
    "print('add 10 to 33:', add10(33))\n",
    "print('add 30 to 1:', add30(1))"
   ]
  },
  {
   "cell_type": "code",
   "execution_count": 17,
   "metadata": {},
   "outputs": [
    {
     "name": "stdout",
     "output_type": "stream",
     "text": [
      "<function curry2.<locals>.f1.<locals>.f2 at 0x7fb6d4aa10d0>\n",
      "12\n",
      "12\n"
     ]
    }
   ],
   "source": [
    "## CURRYING\n",
    "# The process of converting a function taking multiple arguments to the one taking one argument\n",
    "\n",
    "## NOTE: It has nothing to do with the curry that we eat/cook.\n",
    "## Named after matematician Haskell Curry\n",
    "\n",
    "def curry2(f): # curry a 2-ary function, i.e function taking two arguments\n",
    "    def f1(x):\n",
    "        def f2(y):\n",
    "            return f(x, y)\n",
    "        return f2\n",
    "    return f1\n",
    "\n",
    "cadd = curry2(add) # because add takes two parameters\n",
    "print(cadd(3)) # it's a function\n",
    "\n",
    "add3 = cadd(3)\n",
    "\n",
    "print(add3(9))\n",
    "# is same as\n",
    "print(cadd(3)(9))\n"
   ]
  },
  {
   "cell_type": "code",
   "execution_count": 19,
   "metadata": {},
   "outputs": [
    {
     "name": "stdout",
     "output_type": "stream",
     "text": [
      "7\n",
      "7\n"
     ]
    }
   ],
   "source": [
    "# But we want to be able to curry any arguments function,\n",
    "# and need to be able to call it with mutiple/all arguments too\n",
    "\n",
    "# because, cadd(3,4) would give error\n",
    "#  \"takes 1 positional argument but 2 were given\"\n",
    "\n",
    "# advanced curry\n",
    "def curry(func):\n",
    "    \"\"\"\n",
    "    Curry a function.\n",
    "    Result: we can then use function with one, multiple or all arguments\n",
    "    \"\"\"\n",
    "    def curried(*args, **kwargs):\n",
    "        if len(args) + len(kwargs) >= func.__code__.co_argcount:\n",
    "            return func(*args, **kwargs)\n",
    "        return (lambda *args2, **kwargs2:\n",
    "                curried(*(args + args2), **dict(kwargs, **kwargs2)))\n",
    "    return curried\n",
    "\n",
    "cadd = curry(add)\n",
    "# now we can do cadd(3)(4), or cadd(3,4): no errors\n",
    "print(cadd(3)(4))\n",
    "print(cadd(3,4))"
   ]
  },
  {
   "cell_type": "code",
   "execution_count": 27,
   "metadata": {},
   "outputs": [
    {
     "name": "stdout",
     "output_type": "stream",
     "text": [
      "fib 5:  8\n",
      "fac_ugly:  120\n",
      "fac_better:  120\n",
      "best fac: 120\n"
     ]
    }
   ],
   "source": [
    "## RECURSIONS\n",
    "## One of the most beautiful things that exists!!\n",
    "\n",
    "def fib(n):\n",
    "    if n<=1:return 1\n",
    "    return fib(n-1) + fib(n-2)\n",
    "print('fib 5: ', fib(5))\n",
    "\n",
    "# factorial:\n",
    "def fac_ugly(n):\n",
    "    a = 1\n",
    "    for x in range(2, n+1):\n",
    "        a*=x\n",
    "    return a\n",
    "print('fac_ugly: ', fac_ugly(5))\n",
    "\n",
    "# a bit better\n",
    "def fac_better(n):\n",
    "    return reduce(lambda x, y:x*y, range(1,n+1))\n",
    "print('fac_better: ', fac_better(5))\n",
    "\n",
    "# Best\n",
    "def fac(n):\n",
    "    if n<=1: return 1\n",
    "    return n*fac(n-1)\n",
    "print('best fac:', fac(5))"
   ]
  },
  {
   "cell_type": "code",
   "execution_count": 29,
   "metadata": {},
   "outputs": [
    {
     "name": "stdout",
     "output_type": "stream",
     "text": [
      "[0, 1, 3, 4, 6, 7, 7, 8, 9, 12, 15, 21, 23, 32, 43, 43]\n"
     ]
    }
   ],
   "source": [
    "## QUICK SORT:\n",
    "def quick_sort(unsorted):\n",
    "    if not unsorted: return []\n",
    "    less = list(filter(lambda x: x< unsorted[0], unsorted[1:]))\n",
    "    more = list(filter(lambda x: x>= unsorted[0], unsorted[1:]))\n",
    "    return quick_sort(less) + [unsorted[0]] + quick_sort(more)\n",
    "\n",
    "our_list = [9,3,1,6,4,8,7,12,32,43,43,23,7,0,21,15]\n",
    "print(quick_sort(our_list))"
   ]
  },
  {
   "cell_type": "code",
   "execution_count": 39,
   "metadata": {},
   "outputs": [
    {
     "name": "stdout",
     "output_type": "stream",
     "text": [
      "9\n",
      "[0, 1, 2, 3, 4, 5]\n",
      "83\n"
     ]
    }
   ],
   "source": [
    "### LAZY LISTS\n",
    "from itertools import islice\n",
    "\n",
    "class InfList:\n",
    "    def __init__(self, gen):\n",
    "        self._gen = gen\n",
    "\n",
    "    def __getitem__(self, val):\n",
    "        gen = self._gen()\n",
    "        l = []\n",
    "        if not isinstance(val, slice):\n",
    "            for x in range(val):\n",
    "                v = next(gen)\n",
    "            return v\n",
    "        else:\n",
    "            end = val.stop or 0\n",
    "            start = val.start or 0\n",
    "            step = val.step or 1\n",
    "            l = list(islice(gen, end))\n",
    "            ret_l = []\n",
    "            for x in range(start, end, step):\n",
    "                ret_l.append(l[x])\n",
    "            return ret_l\n",
    "\n",
    "def infnums():\n",
    "    c = 0\n",
    "    while True:\n",
    "        yield c\n",
    "        c+=1\n",
    "\n",
    "i = InfList(infnums)\n",
    "\n",
    "print(i[10])\n",
    "print(i[:6])\n",
    "print(len(i[7:90]))"
   ]
  },
  {
   "cell_type": "code",
   "execution_count": 51,
   "metadata": {},
   "outputs": [],
   "source": [
    "### LET'S convert some csv to list of dictionaries\n",
    "csvstr = \"\"\"name,age\n",
    "bibek,22\n",
    "bidhan,19\n",
    "sujan,21\n",
    "biplov,22\n",
    "kshitiz,17\"\"\"\n",
    "### WE want something like this:\n",
    "##  data = [{'name': 'bibek', 'age': '22'}, ...]"
   ]
  },
  {
   "cell_type": "code",
   "execution_count": 6,
   "metadata": {},
   "outputs": [
    {
     "name": "stdout",
     "output_type": "stream",
     "text": [
      "[{'name': 'bibek', 'age': '22'}, {'name': 'bidhan', 'age': '19'}, {'name': 'sujan', 'age': '21'}, {'name': 'biplov', 'age': '22'}, {'name': 'kshitiz', 'age': '17'}]\n"
     ]
    }
   ],
   "source": [
    "## NON funcional, trivial way\n",
    "data = []\n",
    "splitted = csvstr.split()\n",
    "header = splitted[0]\n",
    "keys = header.split(',')\n",
    "for line in splitted[1:]:\n",
    "    record = {}\n",
    "    for i, y in enumerate(line.split(',')):\n",
    "        record[keys[i]] = y\n",
    "    data.append(record)\n",
    "print(data)"
   ]
  },
  {
   "cell_type": "code",
   "execution_count": 52,
   "metadata": {},
   "outputs": [
    {
     "name": "stdout",
     "output_type": "stream",
     "text": [
      "[{'name': 'bibek', 'age': '22'}, {'name': 'bidhan', 'age': '19'}, {'name': 'sujan', 'age': '21'}, {'name': 'biplov', 'age': '22'}, {'name': 'kshitiz', 'age': '17'}]\n"
     ]
    }
   ],
   "source": [
    "## Now, our very elegant functional approach\n",
    "from functools import partial\n",
    "\n",
    "def split(separator, string): return string.split(separator)\n",
    "## nothing much, just making map, dict and zip compatible with the curry function I wrote\n",
    "def m(f, iterable): return map(f, iterable)\n",
    "def z(it1, it2): return zip(it1, it2)\n",
    "def d(*args): return dict(*args)\n",
    "\n",
    "c_zip, c_map, c_dict = curry(z), curry(m), curry(d) # CURRIED FUNCTIONS\n",
    "\n",
    "# curry the split function\n",
    "csplit = curry(split)\n",
    "split_newline = csplit('\\n')\n",
    "split_comma = csplit(',')\n",
    "\n",
    "dict_from_key_vals = compose(c_dict, c_zip)\n",
    "csv_to_list = compose(c_map(split_comma), split_newline)\n",
    "\n",
    "our_list = csv_to_list(csvstr)\n",
    "headers = next(our_list)\n",
    "\n",
    "data = map(partial(dict_from_key_vals, headers), our_list) # or we can use c_map\n",
    "\n",
    "print(list(data))"
   ]
  },
  {
   "cell_type": "code",
   "execution_count": null,
   "metadata": {},
   "outputs": [],
   "source": [
    "### Some references from Daniel Kirsch's talk: https://www.youtube.com/watch?v=r2eZ7lhqzNE\n",
    "### Functional programming Jargon\n",
    "### and many other resources"
   ]
  }
 ],
 "metadata": {
  "kernelspec": {
   "display_name": "Python 3",
   "language": "python",
   "name": "python3"
  },
  "language_info": {
   "codemirror_mode": {
    "name": "ipython",
    "version": 3
   },
   "file_extension": ".py",
   "mimetype": "text/x-python",
   "name": "python",
   "nbconvert_exporter": "python",
   "pygments_lexer": "ipython3",
   "version": "3.6.3"
  }
 },
 "nbformat": 4,
 "nbformat_minor": 2
}
